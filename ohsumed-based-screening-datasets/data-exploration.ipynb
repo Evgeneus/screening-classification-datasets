{
 "cells": [
  {
   "cell_type": "markdown",
   "metadata": {},
   "source": [
    "# Data Exploration"
   ]
  },
  {
   "cell_type": "markdown",
   "metadata": {},
   "source": [
    "## Ohsumed collection\n",
    "it includes medical abstracts from the MeSH categories of \n",
    "the year 1991. In [Joachims, 1997] were used the first 20,000 documents divided\n",
    " in 10,000 for training and 10,000 for testing. The specific task was to categorize \n",
    "the 23 cardiovascular diseases categories. After selecting the such category \n",
    "subset, the unique abstract number becomes 13,929 (6,286 for training and \n",
    "7,643 for testing). As current computers can easily manage larger number of \n",
    "documents we make available all 34,389 cardiovascular diseases abstracts \n",
    "out of 50,216 medical abstracts contained in the year 1991.\n",
    "\n",
    "\"Bacterial Infections and Mycoses                      C01\n",
    "Virus Diseases                                        C02\n",
    "Parasitic Diseases                                    C03\n",
    "Neoplasms                                             C04\n",
    "Musculoskeletal Diseases                              C05\n",
    "Digestive System Diseases                             C06\n",
    "Stomatognathic Diseases                               C07\n",
    "Respiratory Tract Diseases                            C08\n",
    "Otorhinolaryngologic Diseases                         C09\n",
    "Nervous System Diseases                               C10\n",
    "Eye Diseases                                          C11\n",
    "Urologic and Male Genital Diseases                    C12\n",
    "Female Genital Diseases and Pregnancy Complications   C13\n",
    "Cardiovascular Diseases                               C14\n",
    "Hemic and Lymphatic Diseases                          C15\n",
    "Neonatal Diseases and Abnormalities                   C16\n",
    "Skin and Connective Tissue Diseases                   C17\n",
    "Nutritional and Metabolic Diseases                    C18\n",
    "Endocrine Diseases                                    C19\n",
    "Immunologic Diseases                                  C20\n",
    "Disorders of Environmental Origin                     C21\n",
    "Animal Diseases                                       C22\n",
    "Pathological Conditions, Signs and Symptoms           C23\""
   ]
  },
  {
   "cell_type": "code",
   "execution_count": 1,
   "metadata": {},
   "outputs": [],
   "source": [
    "%matplotlib inline\n",
    "import pandas as pd\n",
    "import numpy as np\n",
    "import matplotlib as mpl\n",
    "import matplotlib.pyplot as plt\n",
    "import seaborn as sns\n",
    "sns.set(style=\"whitegrid\", color_codes=True)"
   ]
  },
  {
   "cell_type": "code",
   "execution_count": 2,
   "metadata": {},
   "outputs": [
    {
     "name": "stdout",
     "output_type": "stream",
     "text": [
      "Number of abstracts: 34389\n"
     ]
    },
    {
     "data": {
      "text/html": [
       "<div>\n",
       "<style scoped>\n",
       "    .dataframe tbody tr th:only-of-type {\n",
       "        vertical-align: middle;\n",
       "    }\n",
       "\n",
       "    .dataframe tbody tr th {\n",
       "        vertical-align: top;\n",
       "    }\n",
       "\n",
       "    .dataframe thead th {\n",
       "        text-align: right;\n",
       "    }\n",
       "</style>\n",
       "<table border=\"1\" class=\"dataframe\">\n",
       "  <thead>\n",
       "    <tr style=\"text-align: right;\">\n",
       "      <th></th>\n",
       "      <th>file_name</th>\n",
       "      <th>C01</th>\n",
       "      <th>C02</th>\n",
       "      <th>C03</th>\n",
       "      <th>C04</th>\n",
       "      <th>C05</th>\n",
       "      <th>C06</th>\n",
       "      <th>C07</th>\n",
       "      <th>C08</th>\n",
       "      <th>C09</th>\n",
       "      <th>...</th>\n",
       "      <th>C14</th>\n",
       "      <th>C15</th>\n",
       "      <th>C16</th>\n",
       "      <th>C17</th>\n",
       "      <th>C18</th>\n",
       "      <th>C19</th>\n",
       "      <th>C20</th>\n",
       "      <th>C21</th>\n",
       "      <th>C22</th>\n",
       "      <th>C23</th>\n",
       "    </tr>\n",
       "  </thead>\n",
       "  <tbody>\n",
       "    <tr>\n",
       "      <th>0</th>\n",
       "      <td>48132</td>\n",
       "      <td>1</td>\n",
       "      <td>0</td>\n",
       "      <td>0</td>\n",
       "      <td>1</td>\n",
       "      <td>0</td>\n",
       "      <td>0</td>\n",
       "      <td>0</td>\n",
       "      <td>0</td>\n",
       "      <td>0</td>\n",
       "      <td>...</td>\n",
       "      <td>0</td>\n",
       "      <td>0</td>\n",
       "      <td>0</td>\n",
       "      <td>0</td>\n",
       "      <td>0</td>\n",
       "      <td>0</td>\n",
       "      <td>0</td>\n",
       "      <td>0</td>\n",
       "      <td>0</td>\n",
       "      <td>0</td>\n",
       "    </tr>\n",
       "    <tr>\n",
       "      <th>1</th>\n",
       "      <td>30028</td>\n",
       "      <td>1</td>\n",
       "      <td>0</td>\n",
       "      <td>0</td>\n",
       "      <td>0</td>\n",
       "      <td>0</td>\n",
       "      <td>0</td>\n",
       "      <td>0</td>\n",
       "      <td>0</td>\n",
       "      <td>0</td>\n",
       "      <td>...</td>\n",
       "      <td>0</td>\n",
       "      <td>0</td>\n",
       "      <td>0</td>\n",
       "      <td>0</td>\n",
       "      <td>0</td>\n",
       "      <td>0</td>\n",
       "      <td>0</td>\n",
       "      <td>0</td>\n",
       "      <td>0</td>\n",
       "      <td>0</td>\n",
       "    </tr>\n",
       "    <tr>\n",
       "      <th>2</th>\n",
       "      <td>40951</td>\n",
       "      <td>1</td>\n",
       "      <td>0</td>\n",
       "      <td>0</td>\n",
       "      <td>0</td>\n",
       "      <td>0</td>\n",
       "      <td>0</td>\n",
       "      <td>0</td>\n",
       "      <td>0</td>\n",
       "      <td>0</td>\n",
       "      <td>...</td>\n",
       "      <td>0</td>\n",
       "      <td>0</td>\n",
       "      <td>0</td>\n",
       "      <td>0</td>\n",
       "      <td>0</td>\n",
       "      <td>0</td>\n",
       "      <td>0</td>\n",
       "      <td>0</td>\n",
       "      <td>0</td>\n",
       "      <td>1</td>\n",
       "    </tr>\n",
       "    <tr>\n",
       "      <th>3</th>\n",
       "      <td>5599</td>\n",
       "      <td>1</td>\n",
       "      <td>0</td>\n",
       "      <td>0</td>\n",
       "      <td>0</td>\n",
       "      <td>0</td>\n",
       "      <td>0</td>\n",
       "      <td>0</td>\n",
       "      <td>0</td>\n",
       "      <td>0</td>\n",
       "      <td>...</td>\n",
       "      <td>1</td>\n",
       "      <td>0</td>\n",
       "      <td>0</td>\n",
       "      <td>0</td>\n",
       "      <td>0</td>\n",
       "      <td>0</td>\n",
       "      <td>1</td>\n",
       "      <td>0</td>\n",
       "      <td>0</td>\n",
       "      <td>0</td>\n",
       "    </tr>\n",
       "    <tr>\n",
       "      <th>4</th>\n",
       "      <td>9166</td>\n",
       "      <td>1</td>\n",
       "      <td>0</td>\n",
       "      <td>0</td>\n",
       "      <td>0</td>\n",
       "      <td>0</td>\n",
       "      <td>0</td>\n",
       "      <td>0</td>\n",
       "      <td>0</td>\n",
       "      <td>0</td>\n",
       "      <td>...</td>\n",
       "      <td>0</td>\n",
       "      <td>0</td>\n",
       "      <td>0</td>\n",
       "      <td>0</td>\n",
       "      <td>0</td>\n",
       "      <td>0</td>\n",
       "      <td>0</td>\n",
       "      <td>0</td>\n",
       "      <td>0</td>\n",
       "      <td>0</td>\n",
       "    </tr>\n",
       "  </tbody>\n",
       "</table>\n",
       "<p>5 rows × 24 columns</p>\n",
       "</div>"
      ],
      "text/plain": [
       "   file_name  C01  C02  C03  C04  C05  C06  C07  C08  C09 ...   C14  C15  C16  \\\n",
       "0      48132    1    0    0    1    0    0    0    0    0 ...     0    0    0   \n",
       "1      30028    1    0    0    0    0    0    0    0    0 ...     0    0    0   \n",
       "2      40951    1    0    0    0    0    0    0    0    0 ...     0    0    0   \n",
       "3       5599    1    0    0    0    0    0    0    0    0 ...     1    0    0   \n",
       "4       9166    1    0    0    0    0    0    0    0    0 ...     0    0    0   \n",
       "\n",
       "   C17  C18  C19  C20  C21  C22  C23  \n",
       "0    0    0    0    0    0    0    0  \n",
       "1    0    0    0    0    0    0    0  \n",
       "2    0    0    0    0    0    0    1  \n",
       "3    0    0    0    1    0    0    0  \n",
       "4    0    0    0    0    0    0    0  \n",
       "\n",
       "[5 rows x 24 columns]"
      ]
     },
     "execution_count": 2,
     "metadata": {},
     "output_type": "execute_result"
    }
   ],
   "source": [
    "df1 = pd.read_csv('./data-processed/ohsumed-file-category.csv')\n",
    "doc_num = len(df1)\n",
    "\n",
    "print('Number of abstracts: {}'.format(doc_num))\n",
    "df1.head()"
   ]
  },
  {
   "cell_type": "markdown",
   "metadata": {},
   "source": [
    "## Number of abstracts, celectivity vs categories\n",
    "Selectivity - the proportion of documents to which category(predicate) applies."
   ]
  },
  {
   "cell_type": "code",
   "execution_count": 3,
   "metadata": {},
   "outputs": [
    {
     "data": {
      "text/plain": [
       "Text(0.5,0,'Categories')"
      ]
     },
     "execution_count": 3,
     "metadata": {},
     "output_type": "execute_result"
    },
    {
     "data": {
      "image/png": "[encoded data removed]",
      "text/plain": [
       "<Figure size 1080x504 with 2 Axes>"
      ]
     },
     "metadata": {},
     "output_type": "display_data"
    }
   ],
   "source": [
    "fig, axes = plt.subplots(nrows=1, ncols=2, figsize=(15, 7))\n",
    "\n",
    "# plot num of abstracts\n",
    "df1[df1.columns[1:]].sum().plot.bar(ax=axes[0], title='#abstract vs categories')\n",
    "axes[0].set_ylabel('#of abstracts')\n",
    "axes[0].set_xlabel('Categories')\n",
    "\n",
    "# plot selectivity\n",
    "s = df1[df1.columns[1:]].sum() / doc_num\n",
    "s.plot.bar(ax=axes[1], title='Selectivity of categories')\n",
    "axes[1].set_ylabel('Selectivity')\n",
    "axes[1].set_xlabel('Categories')"
   ]
  },
  {
   "cell_type": "raw",
   "metadata": {},
   "source": [
    "# document number:  34389\n",
    "selectivity values:\n",
    "C23    0.279479\n",
    "C04    0.183983\n",
    "C14    0.177440\n",
    "C10    0.111983\n",
    "C06    0.086917\n",
    "C08    0.075286"
   ]
  },
  {
   "cell_type": "markdown",
   "metadata": {},
   "source": [
    "## Find abstract describe N categories at the same time"
   ]
  },
  {
   "cell_type": "code",
   "execution_count": 6,
   "metadata": {},
   "outputs": [],
   "source": [
    "categories = df1.columns[1:]\n",
    "category_docs = {}\n",
    "for c in categories:\n",
    "    category_docs[c] = set(df1['file_name'].loc[df1[c] == 1].values)\n",
    "    \n",
    "num_categories = len(categories)\n",
    "two_categories_docs = np.zeros((num_categories, num_categories))\n",
    "for ind_c1, c1 in enumerate(categories):\n",
    "    for ind_c2, c2 in enumerate(categories):\n",
    "        two_categories_docs[ind_c1, ind_c2] = len(category_docs[c1] & category_docs[c2])    "
   ]
  },
  {
   "cell_type": "markdown",
   "metadata": {},
   "source": [
    "### Plot heatmap for 2 categories"
   ]
  },
  {
   "cell_type": "code",
   "execution_count": 7,
   "metadata": {},
   "outputs": [],
   "source": [
    "df2 = pd.DataFrame(two_categories_docs, index=categories, columns=categories)\n",
    "\n",
    "# fig, ax = plt.subplots(figsize=(10,10))\n",
    "# sns.heatmap(df, cmap='RdYlGn_r', linewidths=0.01, ax=ax)"
   ]
  },
  {
   "cell_type": "markdown",
   "metadata": {},
   "source": [
    "### Bar chart of number, proportion of abstracts  that describe 2 categories"
   ]
  },
  {
   "cell_type": "code",
   "execution_count": 8,
   "metadata": {},
   "outputs": [],
   "source": [
    "df3= df2.unstack().sort_values(ascending=False).drop_duplicates()\n",
    "indexes2 = df3.index.values.tolist()\n",
    "indexes2_unique = []\n",
    "for i in indexes2:\n",
    "    if i[0] != i[1]:\n",
    "        indexes2_unique.append(i)"
   ]
  },
  {
   "cell_type": "code",
   "execution_count": 9,
   "metadata": {},
   "outputs": [
    {
     "data": {
      "text/plain": [
       "Text(0.5,0,'Categories')"
      ]
     },
     "execution_count": 9,
     "metadata": {},
     "output_type": "execute_result"
    },
    {
     "data": {
      "image/png": "[encoded data removed]",
      "text/plain": [
       "<Figure size 1080x504 with 2 Axes>"
      ]
     },
     "metadata": {},
     "output_type": "display_data"
    }
   ],
   "source": [
    "fig, axes = plt.subplots(nrows=1, ncols=2, figsize=(15, 7))\n",
    "\n",
    "# plot num of abstracts\n",
    "df3.loc[indexes2_unique][:10].plot.bar(ax=axes[0], title='#of abstracts that describe 2 categories')\n",
    "axes[0].set_ylabel('#of abstracts')\n",
    "axes[0].set_xlabel('Categories')\n",
    "\n",
    "# plot selectivity\n",
    "s = df3.loc[indexes2_unique][:10] / doc_num\n",
    "s.plot.bar(ax=axes[1], title='Proportion of abstracts that describe 2 categories')\n",
    "axes[1].set_ylabel('Selectivity')\n",
    "axes[1].set_xlabel('Categories')\n"
   ]
  },
  {
   "cell_type": "markdown",
   "metadata": {},
   "source": [
    "### Bar chart of number of documents  that describe 3 categories"
   ]
  },
  {
   "cell_type": "code",
   "execution_count": 10,
   "metadata": {},
   "outputs": [],
   "source": [
    "indexes3_unrolled = set()\n",
    "for i in indexes2_unique:    \n",
    "    indexes3_unrolled.add(i[0])\n",
    "    indexes3_unrolled.add(i[1])\n",
    "\n",
    "import itertools\n",
    "indexes3 = list(itertools.combinations(indexes3_unrolled, 3))\n",
    "three_categories_docs = []\n",
    "for c1, c2, c3 in indexes3:\n",
    "    three_categories_docs.append(len(category_docs[c1] & category_docs[c2] & category_docs[c3]))"
   ]
  },
  {
   "cell_type": "code",
   "execution_count": 11,
   "metadata": {
    "scrolled": true
   },
   "outputs": [
    {
     "data": {
      "text/plain": [
       "Text(0.5,1,'#of abstracts that describe 3 categories')"
      ]
     },
     "execution_count": 11,
     "metadata": {},
     "output_type": "execute_result"
    },
    {
     "data": {
      "image/png": "[encoded data removed]",
      "text/plain": [
       "<Figure size 432x288 with 1 Axes>"
      ]
     },
     "metadata": {},
     "output_type": "display_data"
    }
   ],
   "source": [
    "pd.Series(three_categories_docs, indexes3).sort_values(ascending=False)[:10].plot.bar().set_title('#of abstracts that describe 3 categories')"
   ]
  },
  {
   "cell_type": "code",
   "execution_count": null,
   "metadata": {},
   "outputs": [],
   "source": []
  }
 ],
 "metadata": {
  "kernelspec": {
   "display_name": "Python 3",
   "language": "python",
   "name": "python3"
  },
  "language_info": {
   "codemirror_mode": {
    "name": "ipython",
    "version": 3
   },
   "file_extension": ".py",
   "mimetype": "text/x-python",
   "name": "python",
   "nbconvert_exporter": "python",
   "pygments_lexer": "ipython3",
   "version": "3.6.5"
  }
 },
 "nbformat": 4,
 "nbformat_minor": 2
}
