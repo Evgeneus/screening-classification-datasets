{
 "cells": [
  {
   "cell_type": "markdown",
   "metadata": {},
   "source": [
    "# Crisis-data-exploration"
   ]
  },
  {
   "cell_type": "code",
   "execution_count": 4,
   "metadata": {},
   "outputs": [],
   "source": [
    "import re\n",
    "import numpy as np\n",
    "import pandas as pd"
   ]
  },
  {
   "cell_type": "code",
   "execution_count": 5,
   "metadata": {},
   "outputs": [],
   "source": [
    "df_gt = pd.read_csv('data/data-gold.csv')\n",
    "df_gt = df_gt[df_gt['_golden'] == False]"
   ]
  },
  {
   "cell_type": "code",
   "execution_count": 6,
   "metadata": {},
   "outputs": [
    {
     "data": {
      "text/html": [
       "<div>\n",
       "<style scoped>\n",
       "    .dataframe tbody tr th:only-of-type {\n",
       "        vertical-align: middle;\n",
       "    }\n",
       "\n",
       "    .dataframe tbody tr th {\n",
       "        vertical-align: top;\n",
       "    }\n",
       "\n",
       "    .dataframe thead th {\n",
       "        text-align: right;\n",
       "    }\n",
       "</style>\n",
       "<table border=\"1\" class=\"dataframe\">\n",
       "  <thead>\n",
       "    <tr style=\"text-align: right;\">\n",
       "      <th></th>\n",
       "      <th>_unit_id</th>\n",
       "      <th>_golden</th>\n",
       "      <th>_unit_state</th>\n",
       "      <th>_trusted_judgments</th>\n",
       "      <th>_last_judgment_at</th>\n",
       "      <th>the_author_of_the_tweet_seems_to_be_an_eye_witness_of_the_event</th>\n",
       "      <th>the_author_of_the_tweet_seems_to_be_an_eye_witness_of_the_event:confidence</th>\n",
       "      <th>type_of_message</th>\n",
       "      <th>type_of_message:confidence</th>\n",
       "      <th>nil</th>\n",
       "      <th>the_author_of_the_tweet_seems_to_be_an_eye_witness_of_the_event_gold</th>\n",
       "      <th>tweet</th>\n",
       "      <th>tweet_no</th>\n",
       "      <th>tweet_no_rt</th>\n",
       "      <th>type_of_message_gold</th>\n",
       "      <th>user</th>\n",
       "    </tr>\n",
       "  </thead>\n",
       "  <tbody>\n",
       "    <tr>\n",
       "      <th>0</th>\n",
       "      <td>238841781</td>\n",
       "      <td>False</td>\n",
       "      <td>finalized</td>\n",
       "      <td>4</td>\n",
       "      <td>1/2/2013 13:37:11</td>\n",
       "      <td>NaN</td>\n",
       "      <td>NaN</td>\n",
       "      <td>Informative: offers/gives donations of money, ...</td>\n",
       "      <td>0.2689</td>\n",
       "      <td>NaN</td>\n",
       "      <td>NaN</td>\n",
       "      <td>important --&amp;gt; @JebBush suggests federal gov...</td>\n",
       "      <td>11899</td>\n",
       "      <td>important --&amp;gt; @JebBush suggests federal gov...</td>\n",
       "      <td>NaN</td>\n",
       "      <td>danholler</td>\n",
       "    </tr>\n",
       "    <tr>\n",
       "      <th>1</th>\n",
       "      <td>238841782</td>\n",
       "      <td>False</td>\n",
       "      <td>finalized</td>\n",
       "      <td>4</td>\n",
       "      <td>12/24/2012 14:05:56</td>\n",
       "      <td>True</td>\n",
       "      <td>1.0</td>\n",
       "      <td>Not informative: personal only</td>\n",
       "      <td>0.7772</td>\n",
       "      <td>NaN</td>\n",
       "      <td>NaN</td>\n",
       "      <td>@ChrisMara816: Screw #sandy we skipped right a...</td>\n",
       "      <td>116293</td>\n",
       "      <td>@ChrisMara816: Screw #sandy we skipped right a...</td>\n",
       "      <td>NaN</td>\n",
       "      <td>kaatteexo</td>\n",
       "    </tr>\n",
       "    <tr>\n",
       "      <th>2</th>\n",
       "      <td>238841783</td>\n",
       "      <td>False</td>\n",
       "      <td>finalized</td>\n",
       "      <td>4</td>\n",
       "      <td>12/24/2012 14:05:56</td>\n",
       "      <td>True</td>\n",
       "      <td>1.0</td>\n",
       "      <td>Informative: information source with extensive...</td>\n",
       "      <td>0.2554</td>\n",
       "      <td>NaN</td>\n",
       "      <td>NaN</td>\n",
       "      <td>On The Learning Network Sandy as a Teaching To...</td>\n",
       "      <td>1091</td>\n",
       "      <td>On The Learning Network Sandy as a Teaching To...</td>\n",
       "      <td>NaN</td>\n",
       "      <td>LotsToLearn</td>\n",
       "    </tr>\n",
       "  </tbody>\n",
       "</table>\n",
       "</div>"
      ],
      "text/plain": [
       "    _unit_id  _golden _unit_state  _trusted_judgments    _last_judgment_at  \\\n",
       "0  238841781    False   finalized                   4    1/2/2013 13:37:11   \n",
       "1  238841782    False   finalized                   4  12/24/2012 14:05:56   \n",
       "2  238841783    False   finalized                   4  12/24/2012 14:05:56   \n",
       "\n",
       "  the_author_of_the_tweet_seems_to_be_an_eye_witness_of_the_event  \\\n",
       "0                                                NaN                \n",
       "1                                               True                \n",
       "2                                               True                \n",
       "\n",
       "   the_author_of_the_tweet_seems_to_be_an_eye_witness_of_the_event:confidence  \\\n",
       "0                                                NaN                            \n",
       "1                                                1.0                            \n",
       "2                                                1.0                            \n",
       "\n",
       "                                     type_of_message  \\\n",
       "0  Informative: offers/gives donations of money, ...   \n",
       "1                     Not informative: personal only   \n",
       "2  Informative: information source with extensive...   \n",
       "\n",
       "   type_of_message:confidence  nil  \\\n",
       "0                      0.2689  NaN   \n",
       "1                      0.7772  NaN   \n",
       "2                      0.2554  NaN   \n",
       "\n",
       "  the_author_of_the_tweet_seems_to_be_an_eye_witness_of_the_event_gold  \\\n",
       "0                                                NaN                     \n",
       "1                                                NaN                     \n",
       "2                                                NaN                     \n",
       "\n",
       "                                               tweet  tweet_no  \\\n",
       "0  important --&gt; @JebBush suggests federal gov...     11899   \n",
       "1  @ChrisMara816: Screw #sandy we skipped right a...    116293   \n",
       "2  On The Learning Network Sandy as a Teaching To...      1091   \n",
       "\n",
       "                                         tweet_no_rt type_of_message_gold  \\\n",
       "0  important --&gt; @JebBush suggests federal gov...                  NaN   \n",
       "1  @ChrisMara816: Screw #sandy we skipped right a...                  NaN   \n",
       "2  On The Learning Network Sandy as a Teaching To...                  NaN   \n",
       "\n",
       "          user  \n",
       "0    danholler  \n",
       "1    kaatteexo  \n",
       "2  LotsToLearn  "
      ]
     },
     "execution_count": 6,
     "metadata": {},
     "output_type": "execute_result"
    }
   ],
   "source": [
    "df_gt.head(3)"
   ]
  },
  {
   "cell_type": "markdown",
   "metadata": {},
   "source": [
    "### Selectivity of categories"
   ]
  },
  {
   "cell_type": "code",
   "execution_count": 7,
   "metadata": {},
   "outputs": [
    {
     "name": "stdout",
     "output_type": "stream",
     "text": [
      "Not informative: personal only                                                        0.374356\n",
      "Can not judge (not in English, too short, etc.)                                       0.126674\n",
      "Informative: damage (building, road, lines, etc.)                                     0.109681\n",
      "Informative: caution or advice                                                        0.064882\n",
      "Informative: other type of photos/videos (not in the above classes)                   0.063852\n",
      "Informative: information source with extensive coverage (radio, tv, website, etc.)    0.063337\n",
      "Informative: other                                                                    0.059732\n",
      "Not informative: unrelated to the disaster                                            0.043769\n",
      "Informative: offers/gives donations of money, goods, or free services                 0.027291\n",
      "Informative: requests donations of money, goods, or free services                     0.024717\n",
      "Informative: celebrities or authorities react to the event or visit the area          0.022142\n",
      "Informative: casualties (people injured or dead)                                      0.018538\n",
      "Informative: people missing, or lost people found                                     0.001030\n",
      "Name: type_of_message, dtype: float64\n",
      "------------------------------------\n",
      "the_author_of_the_tweet_seems_to_be_an_eye_witness_of_the_event:      0.1791967044284243\n"
     ]
    }
   ],
   "source": [
    "print(df_gt['type_of_message'].value_counts()/len(df_gt))\n",
    "print('------------------------------------')\n",
    "print('the_author_of_the_tweet_seems_to_be_an_eye_witness_of_the_event:      {}'.format(len(df_gt[(df_gt['the_author_of_the_tweet_seems_to_be_an_eye_witness_of_the_event'] == True)]) / len(df_gt)))"
   ]
  },
  {
   "cell_type": "markdown",
   "metadata": {},
   "source": [
    "### % of IN tweets for (3 predicates):\n",
    "author_is_eye_witness_of_the_event ^ Informative ^ damage (building, road, lines, etc.) = 3%"
   ]
  },
  {
   "cell_type": "code",
   "execution_count": 8,
   "metadata": {},
   "outputs": [
    {
     "data": {
      "text/plain": [
       "0.03038105046343975"
      ]
     },
     "execution_count": 8,
     "metadata": {},
     "output_type": "execute_result"
    }
   ],
   "source": [
    "df_relevant = df_gt[(df_gt['the_author_of_the_tweet_seems_to_be_an_eye_witness_of_the_event'] == True) & (\n",
    "    df_gt['type_of_message'] == 'Informative: damage (building, road, lines, etc.)')]\n",
    "\n",
    "len(df_relevant) / len(df_gt)"
   ]
  },
  {
   "cell_type": "markdown",
   "metadata": {},
   "source": [
    "### % of IN tweets for (3 predicates):\n",
    "not author_is_eye_witness_of_the_event ^ Informative ^ damage (building, road, lines, etc.) = 8%"
   ]
  },
  {
   "cell_type": "code",
   "execution_count": 9,
   "metadata": {},
   "outputs": [
    {
     "data": {
      "text/plain": [
       "0.07929969104016478"
      ]
     },
     "execution_count": 9,
     "metadata": {},
     "output_type": "execute_result"
    }
   ],
   "source": [
    "df_relevant = df_gt[(df_gt['the_author_of_the_tweet_seems_to_be_an_eye_witness_of_the_event'] != True) & (\n",
    "    df_gt['type_of_message'] == 'Informative: damage (building, road, lines, etc.)')]\n",
    "\n",
    "len(df_relevant) / len(df_gt)"
   ]
  },
  {
   "cell_type": "code",
   "execution_count": null,
   "metadata": {},
   "outputs": [],
   "source": []
  }
 ],
 "metadata": {
  "kernelspec": {
   "display_name": "Python 3",
   "language": "python",
   "name": "python3"
  },
  "language_info": {
   "codemirror_mode": {
    "name": "ipython",
    "version": 3
   },
   "file_extension": ".py",
   "mimetype": "text/x-python",
   "name": "python",
   "nbconvert_exporter": "python",
   "pygments_lexer": "ipython3",
   "version": "3.6.4"
  }
 },
 "nbformat": 4,
 "nbformat_minor": 2
}
